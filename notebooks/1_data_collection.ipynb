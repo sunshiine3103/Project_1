# Импорт библиотек
import requests
import pandas as pd
import json
from datetime import datetime, timedelta
import os

# Создание директории для сырых данных
os.makedirs('../data/raw', exist_ok=True)

# Параметры API (используем demo-ключ)
API_URL = "https://api.travelpayouts.com/v2/prices/latest"
API_KEY = "ваш_api_ключ" 
HEADERS = {'x-access-token': API_KEY}

# Параметры запроса
params = {
    'currency': 'rub',
    'origin': 'MOW',  # Москва
    'destination': ['LED', 'KZN', 'SVX', 'VOZ', 'UFA'],  # Популярные направления
    'period_type': 'year',
    'page': 1,
    'limit': 1000,
    'show_to_affiliates': 'false'
}

# Функция для получения данных
def fetch_flight_prices(params):
    response = requests.get(
        API_URL,
        headers=HEADERS,
        params={**params, 'destination': ','.join(params['destination'])}
    )
    if response.status_code == 200:
        return response.json()['data']
    else:
        print(f"Ошибка: {response.status_code}")
        return None

# Получаем данные
flight_data = fetch_flight_prices(params)

# Сохраняем сырые данные
timestamp = datetime.now().strftime("%Y%m%d_%H%M%S")
with open(f'../data/raw/flight_prices_{timestamp}.json', 'w') as f:
    json.dump(flight_data, f)

# Преобразуем в DataFrame для предпросмотра
df_raw = pd.DataFrame(flight_data)
df_raw.head()
