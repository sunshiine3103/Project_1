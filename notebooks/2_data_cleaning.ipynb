# Импорт библиотек
import pandas as pd
import numpy as np
from pathlib import Path
import json

# Загрузка сырых данных
raw_files = list(Path('../data/raw').glob('*.json'))
latest_file = max(raw_files, key=lambda x: x.stat().st_ctime)

with open(latest_file) as f:
    raw_data = json.load(f)

df = pd.DataFrame(raw_data)

# 1. Удаление дубликатов
print(f"До удаления дубликатов: {len(df)} записей")
df = df.drop_duplicates(subset=['flight_date', 'booking_date', 'destination'])
print(f"После удаления: {len(df)} записей")

# 2. Обработка пропусков
print("\nПропуски до обработки:")
print(df.isna().sum())

# Заполняем пропуски в цене медианным значением
median_price = df['price'].median()
df['price'] = df['price'].fillna(median_price)

# 3. Преобразование типов
df['flight_date'] = pd.to_datetime(df['flight_date'])
df['booking_date'] = pd.to_datetime(df['booking_date'])
df['days_before'] = (df['flight_date'] - df['booking_date']).dt.days

# Добавляем день недели
df['weekday'] = df['flight_date'].dt.day_name()

# Сохранение обработанных данных
os.makedirs('../data/processed', exist_ok=True)
df.to_csv('../data/processed/cleaned_flights.csv', index=False)

# Предпросмотр
df.info()
df.head()
