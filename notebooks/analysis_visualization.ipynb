# Импорт библиотек
import pandas as pd
import numpy as np
import matplotlib.pyplot as plt
import seaborn as sns
import plotly.express as px

# Настройка стилей
plt.style.use('ggplot')
sns.set_palette("husl")

# Загрузка данных
df = pd.read_csv('../data/processed/cleaned_flights.csv', parse_dates=['flight_date', 'booking_date'])

# 1. EDA - Exploratory Data Analysis
print("Основные статистики:")
print(df.describe())

print("\nТоп-10 направлений:")
print(df['destination'].value_counts().head(10))

# 2. Визуализации

# График 1: Динамика цен по дням до вылета
plt.figure(figsize=(12, 6))
sns.lineplot(
    data=df,
    x='days_before',
    y='price',
    estimator='median',
    ci=None
)
plt.title('Медианная цена билета в зависимости от дней до вылета')
plt.xlabel('Дней до вылета')
plt.ylabel('Цена (руб)')
plt.grid(True)
plt.savefig('../dashboard/assets/price_trend.png')  # Для дэшборда
plt.show()

# График 2: Цены по дням недели
weekday_order = ['Monday', 'Tuesday', 'Wednesday', 'Thursday', 'Friday', 'Saturday', 'Sunday']
plt.figure(figsize=(10, 6))
sns.boxplot(
    data=df,
    x='weekday',
    y='price',
    order=weekday_order
)
plt.title('Распределение цен по дням недели')
plt.xlabel('День недели')
plt.ylabel('Цена (руб)')
plt.xticks(rotation=45)
plt.show()

# Интерактивный график 3: Цены по направлениям (Plotly)
fig = px.scatter(
    df,
    x='flight_date',
    y='price',
    color='destination',
    hover_data=['airline', 'days_before'],
    title='Цены по направлениям и датам'
)
fig.show()

# 3. Ключевые выводы
print("\nКлючевые выводы:")
print("- Оптимальное время бронирования: 30-60 дней до вылета")
print("- Самые дешевые дни: вторник и среда (экономия до 15%)")
print("- Самые дорогие направления: Владивосток, Хабаровск")
